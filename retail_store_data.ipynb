{
 "cells": [
  {
   "cell_type": "code",
   "execution_count": 58,
   "id": "a6f5b244",
   "metadata": {},
   "outputs": [],
   "source": [
    "import warnings\n",
    "warnings.filterwarnings('ignore')\n",
    "import pandas as pd\n",
    "from sklearn.model_selection import train_test_split\n",
    "from sklearn.preprocessing import LabelEncoder\n",
    "from sklearn.svm import SVC\n",
    "from sklearn.neighbors import KNeighborsClassifier\n",
    "from sklearn.tree import DecisionTreeClassifier\n",
    "from sklearn.ensemble import GradientBoostingClassifier\n",
    "from sklearn.metrics import accuracy_score, classification_report\n",
    "from sklearn.linear_model import LogisticRegression "
   ]
  },
  {
   "cell_type": "code",
   "execution_count": 32,
   "id": "0d264698",
   "metadata": {},
   "outputs": [],
   "source": [
    "# Load your dataset (replace 'your_dataset.csv' with the actual file path)\n",
    "data = pd.read_csv('https://raw.githubusercontent.com/patilkundan/datasets/main/retail_store_data.csv')"
   ]
  },
  {
   "cell_type": "code",
   "execution_count": 33,
   "id": "f6e2490f",
   "metadata": {},
   "outputs": [],
   "source": [
    "data=data[[\"Purchase rate\",\"Credit Score\",\"Frequency of Visits\",\"Eligibility\"]]"
   ]
  },
  {
   "cell_type": "code",
   "execution_count": 34,
   "id": "97fbdf05",
   "metadata": {},
   "outputs": [],
   "source": [
    "# Encode the 'Eligibility' column\n",
    "le = LabelEncoder()\n",
    "data['Eligibility'] = le.fit_transform(data['Eligibility'])"
   ]
  },
  {
   "cell_type": "code",
   "execution_count": 35,
   "id": "03854a87",
   "metadata": {},
   "outputs": [],
   "source": [
    "# Split the data into features (X) and the target variable (y)\n",
    "X = data.drop('Eligibility', axis=1)\n",
    "y = data['Eligibility']"
   ]
  },
  {
   "cell_type": "code",
   "execution_count": 61,
   "id": "d93b4389",
   "metadata": {},
   "outputs": [],
   "source": [
    "# Split the data into training and testing sets\n",
    "X_train, X_test, y_train, y_test = train_test_split(X, y, test_size=0.3, random_state=42)\n",
    "\n",
    "# Initialize and train the models\n",
    "svm_model = SVC()\n",
    "knn_model = KNeighborsClassifier()\n",
    "dt_model = DecisionTreeClassifier()\n",
    "gbdt_model = GradientBoostingClassifier()\n",
    "lg_model=LogisticRegression()"
   ]
  },
  {
   "cell_type": "code",
   "execution_count": 62,
   "id": "53e19ffb",
   "metadata": {},
   "outputs": [
    {
     "name": "stdout",
     "output_type": "stream",
     "text": [
      "Model: SVM\n",
      "Accuracy: 0.85\n",
      "Classification Report:\n",
      "              precision    recall  f1-score   support\n",
      "\n",
      "           0       1.00      0.72      0.84       125\n",
      "           1       0.77      1.00      0.87       115\n",
      "\n",
      "    accuracy                           0.85       240\n",
      "   macro avg       0.88      0.86      0.85       240\n",
      "weighted avg       0.89      0.85      0.85       240\n",
      "\n",
      "\n",
      "Model: KNN\n",
      "Accuracy: 0.89\n",
      "Classification Report:\n",
      "              precision    recall  f1-score   support\n",
      "\n",
      "           0       0.98      0.80      0.88       125\n",
      "           1       0.82      0.98      0.89       115\n",
      "\n",
      "    accuracy                           0.89       240\n",
      "   macro avg       0.90      0.89      0.89       240\n",
      "weighted avg       0.90      0.89      0.89       240\n",
      "\n",
      "\n",
      "Model: Decision Tree\n",
      "Accuracy: 0.85\n",
      "Classification Report:\n",
      "              precision    recall  f1-score   support\n",
      "\n",
      "           0       0.86      0.86      0.86       125\n",
      "           1       0.84      0.84      0.84       115\n",
      "\n",
      "    accuracy                           0.85       240\n",
      "   macro avg       0.85      0.85      0.85       240\n",
      "weighted avg       0.85      0.85      0.85       240\n",
      "\n",
      "\n",
      "Model: Gradient Boosted DT\n",
      "Accuracy: 0.92\n",
      "Classification Report:\n",
      "              precision    recall  f1-score   support\n",
      "\n",
      "           0       0.99      0.86      0.92       125\n",
      "           1       0.86      0.99      0.92       115\n",
      "\n",
      "    accuracy                           0.92       240\n",
      "   macro avg       0.93      0.92      0.92       240\n",
      "weighted avg       0.93      0.92      0.92       240\n",
      "\n",
      "\n",
      "Model: lg\n",
      "Accuracy: 0.87\n",
      "Classification Report:\n",
      "              precision    recall  f1-score   support\n",
      "\n",
      "           0       0.91      0.84      0.87       125\n",
      "           1       0.84      0.90      0.87       115\n",
      "\n",
      "    accuracy                           0.87       240\n",
      "   macro avg       0.87      0.87      0.87       240\n",
      "weighted avg       0.87      0.87      0.87       240\n",
      "\n",
      "\n"
     ]
    }
   ],
   "source": [
    "models = [svm_model, knn_model, dt_model, gbdt_model,lg]\n",
    "model_names = ['SVM', 'KNN', 'Decision Tree', 'Gradient Boosted DT','lg']\n",
    "\n",
    "for model, name in zip(models, model_names):\n",
    "    model.fit(X_train, y_train)\n",
    "    y_pred = model.predict(X_test)\n",
    "    \n",
    "    accuracy = accuracy_score(y_test, y_pred)\n",
    "    report = classification_report(y_test, y_pred)\n",
    "    \n",
    "    print(f\"Model: {name}\")\n",
    "    print(f\"Accuracy: {accuracy:.2f}\\nClassification Report:\\n{report}\\n\")"
   ]
  },
  {
   "cell_type": "code",
   "execution_count": 63,
   "id": "ef08278f",
   "metadata": {},
   "outputs": [
    {
     "data": {
      "image/png": "[encoded data removed]",
      "text/plain": [
       "<Figure size 576x432 with 1 Axes>"
      ]
     },
     "metadata": {
      "needs_background": "light"
     },
     "output_type": "display_data"
    }
   ],
   "source": [
    "import matplotlib.pyplot as plt\n",
    "from sklearn.metrics import roc_curve, auc\n",
    "\n",
    "# Assuming you have trained your models (svm_model, knn_model, dt_model, gbdt_model)\n",
    "# Replace 'svm_model', 'knn_model', etc., with your trained models\n",
    "\n",
    "# For SVM and GBDT, you can use decision_function\n",
    "svm_scores = svm_model.decision_function(X_test)\n",
    "gbdt_scores = gbdt_model.decision_function(X_test)\n",
    "\n",
    "# For KNN and Decision Tree, you can use predicted probabilities for the positive class\n",
    "knn_probs = knn_model.predict_proba(X_test)[:, 1]\n",
    "dt_probs = dt_model.predict_proba(X_test)[:, 1]\n",
    "\n",
    "# Calculate ROC curve and AUC for each model\n",
    "fpr_svm, tpr_svm, _ = roc_curve(y_test, svm_scores)\n",
    "roc_auc_svm = auc(fpr_svm, tpr_svm)\n",
    "\n",
    "fpr_knn, tpr_knn, _ = roc_curve(y_test, knn_probs)\n",
    "roc_auc_knn = auc(fpr_knn, tpr_knn)\n",
    "\n",
    "fpr_dt, tpr_dt, _ = roc_curve(y_test, dt_probs)\n",
    "roc_auc_dt = auc(fpr_dt, tpr_dt)\n",
    "\n",
    "fpr_gbdt, tpr_gbdt, _ = roc_curve(y_test, gbdt_scores)\n",
    "roc_auc_gbdt = auc(fpr_gbdt, tpr_gbdt)\n",
    "\n",
    "# Plot ROC curves\n",
    "plt.figure(figsize=(8, 6))\n",
    "plt.plot(fpr_svm, tpr_svm, label='SVM (AUC = %0.2f)' % roc_auc_svm)\n",
    "plt.plot(fpr_knn, tpr_knn, label='KNN (AUC = %0.2f)' % roc_auc_knn)\n",
    "plt.plot(fpr_dt, tpr_dt, label='Decision Tree (AUC = %0.2f)' % roc_auc_dt)\n",
    "plt.plot(fpr_gbdt, tpr_gbdt, label='Gradient Boosted DT (AUC = %0.2f)' % roc_auc_gbdt)\n",
    "\n",
    "plt.plot([0, 1], [0, 1], 'k--')\n",
    "plt.xlim([0.0, 1.0])\n",
    "plt.ylim([0.0, 1.05])\n",
    "plt.xlabel('False Positive Rate')\n",
    "plt.ylabel('True Positive Rate')\n",
    "plt.title('ROC Curve')\n",
    "plt.legend(loc='lower right')\n",
    "plt.show()\n"
   ]
  },
  {
   "cell_type": "code",
   "execution_count": 77,
   "id": "57099a37",
   "metadata": {},
   "outputs": [
    {
     "data": {
      "text/plain": [
       "array([0])"
      ]
     },
     "execution_count": 77,
     "metadata": {},
     "output_type": "execute_result"
    }
   ],
   "source": [
    "lg.predict([[51,10,10,]])"
   ]
  },
  {
   "cell_type": "code",
   "execution_count": 78,
   "id": "5437ceaa",
   "metadata": {},
   "outputs": [
    {
     "data": {
      "text/plain": [
       "['model.pkl']"
      ]
     },
     "execution_count": 78,
     "metadata": {},
     "output_type": "execute_result"
    }
   ],
   "source": [
    "import joblib\n",
    "\n",
    "# Assuming you have already trained and fitted \n",
    "\n",
    "# Save the logistics model to a file\n",
    "joblib.dump(lg, 'model.pkl')"
   ]
  },
  {
   "cell_type": "code",
   "execution_count": 79,
   "id": "da4d6b36",
   "metadata": {},
   "outputs": [],
   "source": [
    "# Later, when you want to make predictions with the saved model:\n",
    "loaded_model = joblib.load('model.pkl')"
   ]
  },
  {
   "cell_type": "code",
   "execution_count": 81,
   "id": "9c039394",
   "metadata": {},
   "outputs": [
    {
     "data": {
      "text/plain": [
       "array([0])"
      ]
     },
     "execution_count": 81,
     "metadata": {},
     "output_type": "execute_result"
    }
   ],
   "source": [
    "loaded_model.predict([[51,10,10,]])"
   ]
  },
  {
   "cell_type": "code",
   "execution_count": 83,
   "id": "dd85ab6d",
   "metadata": {
    "scrolled": true
   },
   "outputs": [
    {
     "data": {
      "text/html": [
       "<div>\n",
       "<style scoped>\n",
       "    .dataframe tbody tr th:only-of-type {\n",
       "        vertical-align: middle;\n",
       "    }\n",
       "\n",
       "    .dataframe tbody tr th {\n",
       "        vertical-align: top;\n",
       "    }\n",
       "\n",
       "    .dataframe thead th {\n",
       "        text-align: right;\n",
       "    }\n",
       "</style>\n",
       "<table border=\"1\" class=\"dataframe\">\n",
       "  <thead>\n",
       "    <tr style=\"text-align: right;\">\n",
       "      <th></th>\n",
       "      <th>Purchase rate</th>\n",
       "      <th>Credit Score</th>\n",
       "      <th>Frequency of Visits</th>\n",
       "      <th>Eligibility</th>\n",
       "    </tr>\n",
       "  </thead>\n",
       "  <tbody>\n",
       "    <tr>\n",
       "      <th>count</th>\n",
       "      <td>800.000000</td>\n",
       "      <td>800.000000</td>\n",
       "      <td>800.000000</td>\n",
       "      <td>800.000000</td>\n",
       "    </tr>\n",
       "    <tr>\n",
       "      <th>mean</th>\n",
       "      <td>62.770000</td>\n",
       "      <td>653.702500</td>\n",
       "      <td>64.337500</td>\n",
       "      <td>0.500000</td>\n",
       "    </tr>\n",
       "    <tr>\n",
       "      <th>std</th>\n",
       "      <td>26.086639</td>\n",
       "      <td>142.403195</td>\n",
       "      <td>25.653728</td>\n",
       "      <td>0.500313</td>\n",
       "    </tr>\n",
       "    <tr>\n",
       "      <th>min</th>\n",
       "      <td>1.000000</td>\n",
       "      <td>302.000000</td>\n",
       "      <td>1.000000</td>\n",
       "      <td>0.000000</td>\n",
       "    </tr>\n",
       "    <tr>\n",
       "      <th>25%</th>\n",
       "      <td>49.750000</td>\n",
       "      <td>596.500000</td>\n",
       "      <td>52.000000</td>\n",
       "      <td>0.000000</td>\n",
       "    </tr>\n",
       "    <tr>\n",
       "      <th>50%</th>\n",
       "      <td>67.000000</td>\n",
       "      <td>687.500000</td>\n",
       "      <td>69.000000</td>\n",
       "      <td>0.500000</td>\n",
       "    </tr>\n",
       "    <tr>\n",
       "      <th>75%</th>\n",
       "      <td>84.000000</td>\n",
       "      <td>763.000000</td>\n",
       "      <td>85.000000</td>\n",
       "      <td>1.000000</td>\n",
       "    </tr>\n",
       "    <tr>\n",
       "      <th>max</th>\n",
       "      <td>100.000000</td>\n",
       "      <td>850.000000</td>\n",
       "      <td>100.000000</td>\n",
       "      <td>1.000000</td>\n",
       "    </tr>\n",
       "  </tbody>\n",
       "</table>\n",
       "</div>"
      ],
      "text/plain": [
       "       Purchase rate  Credit Score  Frequency of Visits  Eligibility\n",
       "count     800.000000    800.000000           800.000000   800.000000\n",
       "mean       62.770000    653.702500            64.337500     0.500000\n",
       "std        26.086639    142.403195            25.653728     0.500313\n",
       "min         1.000000    302.000000             1.000000     0.000000\n",
       "25%        49.750000    596.500000            52.000000     0.000000\n",
       "50%        67.000000    687.500000            69.000000     0.500000\n",
       "75%        84.000000    763.000000            85.000000     1.000000\n",
       "max       100.000000    850.000000           100.000000     1.000000"
      ]
     },
     "execution_count": 83,
     "metadata": {},
     "output_type": "execute_result"
    }
   ],
   "source": [
    "data.describe()"
   ]
  },
  {
   "cell_type": "code",
   "execution_count": null,
   "id": "5c764a87",
   "metadata": {},
   "outputs": [],
   "source": []
  }
 ],
 "metadata": {
  "kernelspec": {
   "display_name": "Python 3 (ipykernel)",
   "language": "python",
   "name": "python3"
  },
  "language_info": {
   "codemirror_mode": {
    "name": "ipython",
    "version": 3
   },
   "file_extension": ".py",
   "mimetype": "text/x-python",
   "name": "python",
   "nbconvert_exporter": "python",
   "pygments_lexer": "ipython3",
   "version": "3.9.12"
  }
 },
 "nbformat": 4,
 "nbformat_minor": 5
}
